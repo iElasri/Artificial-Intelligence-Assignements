{
 "cells": [
  {
   "cell_type": "markdown",
   "metadata": {},
   "source": [
    "# Assignement 2 - Linear regression with one variable\n",
    "\n",
    "\n",
    "In this second assignment, you will implement linear regression and get to see it work on data. \n",
    "\n",
    "\n",
    "In this part of this exercise, you will implement linear regression with one variable to predict profits for your food company. Suppose you are the CEO of McDonlads and are considering different cities for opening a new outlet. The chain already has trucks in various cities and you have data for profits and populations from the cities.\n",
    "\n",
    "You would like to use this data to help you select which city to expand to next.\n",
    "\n",
    "The file LRdata1.txt contains the dataset for our linear regression problem. The first column is the population of a city and the second column is the profit of a food truck in that city. A negative value for profit indicates that its a loss and its not a good city to gather money.\n",
    "\n",
    "You work is to complete the assignement 2 by filling the missing lines of code\n"
   ]
  },
  {
   "cell_type": "code",
   "execution_count": 2,
   "metadata": {},
   "outputs": [],
   "source": [
    "# Some useful libraries to use in this assignment\n",
    "\n",
    "from numpy import loadtxt, zeros, ones, array, linspace, logspace\n",
    "from pylab import scatter, show, title, xlabel, ylabel, plot, contour\n",
    "import matplotlib\n",
    "import numpy as np\n",
    "\n",
    "%matplotlib inline\n",
    "matplotlib.rcParams['figure.figsize'] = (10.0, 8.0)"
   ]
  },
  {
   "cell_type": "markdown",
   "metadata": {},
   "source": [
    "# First step\n",
    "\n",
    "We are going to plot the dataset and see if we can apply linear regression to fit the data."
   ]
  },
  {
   "cell_type": "code",
   "execution_count": 3,
   "metadata": {},
   "outputs": [
    {
     "data": {
      "image/png": "[encoded data removed]",
      "text/plain": [
       "<matplotlib.figure.Figure at 0x7f8b2e6baf60>"
      ]
     },
     "metadata": {},
     "output_type": "display_data"
    }
   ],
   "source": [
    "#Load the dataset\n",
    "data = loadtxt('LRdata1.txt', delimiter=',')\n",
    "#Plot the data\n",
    "scatter(data[:, 0], data[:, 1], marker='o', c='b')\n",
    "title('Profits distribution')\n",
    "xlabel('Population of City in 10,000s')\n",
    "ylabel('Profit in 10,000s DH')\n",
    "show()"
   ]
  },
  {
   "cell_type": "markdown",
   "metadata": {},
   "source": [
    "# Question 1\n",
    "\n",
    "You have to complete the function compute_cost that has three parameters: X, y and W"
   ]
  },
  {
   "cell_type": "code",
   "execution_count": 4,
   "metadata": {},
   "outputs": [],
   "source": [
    "#Evaluate the linear regression\n",
    "def compute_cost(X, y, W):\n",
    "    '''\n",
    "    This function will compute the cost for your linear regression model\n",
    "    '''\n",
    "    #Number of training samples\n",
    "    m  = y.size\n",
    "    \n",
    "    '''\n",
    "    print (\"X :\",X.shape)\n",
    "    print (\"W :\",W.shape)\n",
    "    print (\"y :\",y.shape)\n",
    "    '''\n",
    "    \n",
    "    # Your code goes here\n",
    "    \n",
    "    predictions = X.dot(W).flatten()\n",
    "\n",
    "    J = ((predictions - y)**2).sum()\n",
    "    \n",
    "\n",
    "    # End of your code\n",
    "\n",
    "    return J/(2*m)"
   ]
  },
  {
   "cell_type": "markdown",
   "metadata": {},
   "source": [
    "# Question 2\n",
    "\n",
    "You have to complete the function gradient_descent that has five parameters: X, y, W, alpha and num_iters\n",
    "\n",
    "alpha: the learning rate\n",
    "\n",
    "num_iters: the number of iterations before we find the best parameters Ws."
   ]
  },
  {
   "cell_type": "code",
   "execution_count": 5,
   "metadata": {},
   "outputs": [],
   "source": [
    "# This fucntion will compute the gradient descent for your linear regression model\n",
    "\n",
    "def gradient_descent(X, y, W, alpha, num_iters,flag_print):\n",
    "\n",
    "    m = y.size\n",
    "\n",
    "    for i in range(num_iters):\n",
    "        \n",
    "        \"\"\" \n",
    "            We will use flatten function because it will return a copy of the array collapsed into one dimension.\n",
    "            which will be useful for our problem\n",
    "        \"\"\"\n",
    "        \n",
    "        predictions = X.dot(W).flatten()\n",
    "                \n",
    "        # Your code goes here\n",
    "        \n",
    "        W[0,0] = W[0,0] - alpha * (predictions - y).sum() / m\n",
    "        W[1,0] = W[1,0] - alpha * ((X[:,1]*(predictions - y)).sum()) / m\n",
    "        \n",
    "        # End of your code\n",
    "        \n",
    "        \"\"\" \n",
    "        it's very useful to print the cost function J in every iteration and see if its decreasing \n",
    "            or increasing (in theory it should decrease)\n",
    "        \"\"\"\n",
    "        if(flag_print):\n",
    "            if(i%1000 == 0):\n",
    "                print(\"iteration :\",i,\" J : \",compute_cost(X,y,W))\n",
    "                print(\"weights  : \",W.flatten() )\n",
    "        \n",
    "    return W"
   ]
  },
  {
   "cell_type": "markdown",
   "metadata": {},
   "source": [
    "# Question 3\n",
    "\n",
    "You have to complete the next cell by giving values to two variables: iterations and alpha."
   ]
  },
  {
   "cell_type": "code",
   "execution_count": 6,
   "metadata": {},
   "outputs": [
    {
     "name": "stdout",
     "output_type": "stream",
     "text": [
      "This is the initial cost J :  32.072733877455676 \n",
      "\n",
      "## alpha = 0.01 ##\n",
      "iteration : 0  J :  6.737190464870007\n",
      "weights  :  [0.05839135 0.6532885 ]\n",
      "iteration : 1000  J :  4.515815084502823\n",
      "weights  :  [-3.24258172  1.1274127 ]\n",
      "iteration : 2000  J :  4.4780238053864\n",
      "weights  :  [-3.78826273  1.18223228]\n",
      "iteration : 3000  J :  4.47699989044271\n",
      "weights  :  [-3.87808313  1.19125571]\n",
      "iteration : 4000  J :  4.476972148544673\n",
      "weights  :  [-3.89286779  1.19274099]\n",
      "iteration : 5000  J :  4.476971396907136\n",
      "weights  :  [-3.89530138  1.19298547]\n",
      "iteration : 6000  J :  4.476971376542307\n",
      "weights  :  [-3.89570195  1.19302572]\n",
      "iteration : 7000  J :  4.476971375990544\n",
      "weights  :  [-3.89576789  1.19303234]\n",
      "iteration : 8000  J :  4.476971375975595\n",
      "weights  :  [-3.89577874  1.19303343]\n",
      "iteration : 9000  J :  4.47697137597519\n",
      "weights  :  [-3.89578053  1.19303361]\n",
      "iteration : 10000  J :  4.476971375975179\n",
      "weights  :  [-3.89578082  1.19303364]\n",
      "iteration : 11000  J :  4.47697137597518\n",
      "weights  :  [-3.89578087  1.19303364]\n",
      "\n",
      "\n",
      "## alpha = 0.02 ##\n",
      "iteration : 0  J :  16.769642371667477\n",
      "weights  :  [0.1167827  1.30657699]\n",
      "iteration : 1000  J :  4.47801319061941\n",
      "weights  :  [-3.78880632  1.18228689]\n",
      "iteration : 2000  J :  4.47697213578076\n",
      "weights  :  [-3.89289195  1.19274342]\n",
      "iteration : 3000  J :  4.476971376529312\n",
      "weights  :  [-3.89570286  1.19302581]\n",
      "iteration : 4000  J :  4.476971375975582\n",
      "weights  :  [-3.89577877  1.19303343]\n",
      "iteration : 5000  J :  4.476971375975179\n",
      "weights  :  [-3.89578082  1.19303364]\n",
      "iteration : 6000  J :  4.476971375975179\n",
      "weights  :  [-3.89578088  1.19303364]\n",
      "iteration : 7000  J :  4.476971375975179\n",
      "weights  :  [-3.89578088  1.19303364]\n",
      "iteration : 8000  J :  4.476971375975179\n",
      "weights  :  [-3.89578088  1.19303364]\n",
      "iteration : 9000  J :  4.476971375975179\n",
      "weights  :  [-3.89578088  1.19303364]\n",
      "iteration : 10000  J :  4.476971375975179\n",
      "weights  :  [-3.89578088  1.19303364]\n",
      "iteration : 11000  J :  4.476971375975179\n",
      "weights  :  [-3.89578088  1.19303364]\n",
      "\n",
      "\n",
      "## alpha = 0.03 ##\n",
      "iteration : 0  J :  62.170089597848026\n",
      "weights  :  [0.17517405 1.95986549]\n",
      "iteration : 1000  J :  inf\n",
      "weights  :  [2.58446519e+165 2.57260940e+166]\n",
      "iteration : 2000  J :  nan\n",
      "weights  :  [nan nan]\n"
     ]
    },
    {
     "name": "stderr",
     "output_type": "stream",
     "text": [
      "/home/heidiki/anaconda3/lib/python3.6/site-packages/ipykernel_launcher.py:19: RuntimeWarning: overflow encountered in square\n",
      "/home/heidiki/anaconda3/lib/python3.6/site-packages/numpy/core/_methods.py:32: RuntimeWarning: overflow encountered in reduce\n",
      "  return umr_sum(a, axis, dtype, out, keepdims)\n",
      "/home/heidiki/anaconda3/lib/python3.6/site-packages/ipykernel_launcher.py:19: RuntimeWarning: invalid value encountered in double_scalars\n"
     ]
    },
    {
     "name": "stdout",
     "output_type": "stream",
     "text": [
      "iteration : 3000  J :  nan\n",
      "weights  :  [nan nan]\n",
      "iteration : 4000  J :  nan\n",
      "weights  :  [nan nan]\n",
      "iteration : 5000  J :  nan\n",
      "weights  :  [nan nan]\n",
      "iteration : 6000  J :  nan\n",
      "weights  :  [nan nan]\n",
      "iteration : 7000  J :  nan\n",
      "weights  :  [nan nan]\n",
      "iteration : 8000  J :  nan\n",
      "weights  :  [nan nan]\n",
      "iteration : 9000  J :  nan\n",
      "weights  :  [nan nan]\n",
      "iteration : 10000  J :  nan\n",
      "weights  :  [nan nan]\n",
      "iteration : 11000  J :  nan\n",
      "weights  :  [nan nan]\n",
      "####\n"
     ]
    }
   ],
   "source": [
    "# The model hyperparameters. Play with them by changing their values and see what happened\n",
    "\"\"\"\n",
    "    In this cell, you should try with different values of the following variables : \n",
    "    - iterations : which will the number of times gradient descent will take before it converges to\n",
    "        the minimum\n",
    "        \n",
    "    - alpha : the learning rate. Try these values : 0.01 and 0.02 and 0.03.\n",
    "\"\"\"\n",
    "\n",
    "# Your initialization goes here\n",
    "\n",
    "X = data[:, 0]\n",
    "y = data[:, 1]\n",
    "\n",
    "#number of training samples\n",
    "m = y.size\n",
    "\n",
    "#Add a column of ones to X (interception data)\n",
    "new_X = ones(shape=(m, 2))\n",
    "new_X[:, 1] = X\n",
    "\n",
    "#Here, we initialize W parameters by zero\n",
    "W = zeros(shape=(2, 1))\n",
    "\n",
    "#compute and print the initial cost, W after apply gradient descent\n",
    "print(\"This is the initial cost J : \",compute_cost(new_X,y,W),\"\\n\")\n",
    "# Your ode goes here\n",
    "\n",
    "\n",
    "print(\"## alpha = 0.01 ##\")\n",
    "gradient_descent(new_X,y,W,0.01,12000,1)\n",
    "\n",
    "W = zeros(shape=(2, 1)) #initialize W again\n",
    "\n",
    "print(\"\\n\\n## alpha = 0.02 ##\")\n",
    "gradient_descent(new_X,y,W,0.02,12000,1)\n",
    "\n",
    "W = zeros(shape=(2, 1)) #initialize W again\n",
    "print(\"\\n\\n## alpha = 0.03 ##\")\n",
    "gradient_descent(new_X,y,W,0.03,12000,1)\n",
    "\n",
    "print(\"####\")\n",
    "# End of your code\n",
    "\n",
    "# End of your initialization"
   ]
  },
  {
   "cell_type": "markdown",
   "metadata": {},
   "source": [
    "# Question 4\n",
    "\n",
    "You have to complete the next cell by computing the initial cost, after that computing W after apply gradient descent"
   ]
  },
  {
   "cell_type": "code",
   "execution_count": 88,
   "metadata": {},
   "outputs": [
    {
     "name": "stdout",
     "output_type": "stream",
     "text": [
      "Initial Cost : 32.072733877455676\n",
      "The weights are :  [-3.89578086  1.19303364]\n"
     ]
    }
   ],
   "source": [
    "X = data[:, 0]\n",
    "y = data[:, 1]\n",
    "\n",
    "\n",
    "#number of training samples\n",
    "m = y.size\n",
    "\n",
    "#Add a column of ones to X (interception data)\n",
    "new_X = ones(shape=(m, 2))\n",
    "new_X[:, 1] = X\n",
    "\n",
    "#Here, we initialize W parameters by zero\n",
    "W = zeros(shape=(2, 1))\n",
    "\n",
    "#compute and print the initial cost, W after apply gradient descent\n",
    "\n",
    "# Your ode goes here\n",
    "\n",
    "print(\"Initial Cost :\",compute_cost(new_X, y,W ))\n",
    "\n",
    "W = gradient_descent(new_X,y,W,0.009,12000,0)\n",
    "\n",
    "print(\"The weights are : \",W.flatten() )\n",
    "\n",
    "# End of your code"
   ]
  },
  {
   "cell_type": "markdown",
   "metadata": {},
   "source": [
    "# Question 5\n",
    "\n",
    "You have to complete the next cell by predicting values for population sizes of 1,000 and 5000 and 10000 and 30000 and 50,000 and see what will happen.\n",
    "\n",
    "N.B., Don't foregt to multipy by 10000\n"
   ]
  },
  {
   "cell_type": "code",
   "execution_count": 74,
   "metadata": {},
   "outputs": [
    {
     "name": "stdout",
     "output_type": "stream",
     "text": [
      "for 1000: (1.0, -2.702747221771685)\n"
     ]
    }
   ],
   "source": [
    "# Your code goes here\n",
    "def predict(x):\n",
    "    x = x/1000\n",
    "    X = np.array([1,x])\n",
    "    res = X.dot(W).flatten()\n",
    "    res = np.asscalar(res)\n",
    "    return x,res\n",
    "\n",
    "print(\"for 1000:\",predict(1000))\n"
   ]
  },
  {
   "cell_type": "code",
   "execution_count": 81,
   "metadata": {},
   "outputs": [
    {
     "data": {
      "image/png": "[encoded data removed]",
      "text/plain": [
       "<matplotlib.figure.Figure at 0x7f8b24e42630>"
      ]
     },
     "metadata": {},
     "output_type": "display_data"
    }
   ],
   "source": [
    "# We will plot the data\n",
    "matplotlib.rcParams['figure.figsize'] = (15.0, 13.0)\n",
    "\n",
    "scatter(data[:, 0], data[:, 1], marker='o', c='b')\n",
    "title('Profits distribution')\n",
    "xlabel('Population of City in 10,000s')\n",
    "ylabel('Profit in 10,000s DH')\n",
    "\n",
    "#Plot the results\n",
    "result = new_X.dot(W).flatten()\n",
    "plot(data[:, 0], result)\n",
    "show()"
   ]
  },
  {
   "cell_type": "code",
   "execution_count": 93,
   "metadata": {},
   "outputs": [
    {
     "data": {
      "image/png": "[encoded data removed]",
      "text/plain": [
       "<matplotlib.figure.Figure at 0x7f8b25226978>"
      ]
     },
     "metadata": {},
     "output_type": "display_data"
    }
   ],
   "source": [
    "#Plot the data\n",
    "\n",
    "scatter(data[:, 0], data[:, 1], marker='.', c='r')\n",
    "title('Profits distribution')\n",
    "xlabel('Population of City in 10,000s')\n",
    "ylabel('Profit in 10,000s DH')\n",
    "\n",
    "\n",
    "#plot the hypotesis \n",
    "\n",
    "result = new_X.dot(W).flatten()\n",
    "plot(data[:, 0], result,c='y')\n",
    "\n",
    "#predict and print \n",
    "\n",
    "x,y = predict(5000)\n",
    "plot(x,y,marker='o',c='b')\n",
    "show()"
   ]
  },
  {
   "cell_type": "code",
   "execution_count": null,
   "metadata": {},
   "outputs": [],
   "source": []
  }
 ],
 "metadata": {
  "anaconda-cloud": {},
  "kernelspec": {
   "display_name": "Python 3",
   "language": "python",
   "name": "python3"
  },
  "language_info": {
   "codemirror_mode": {
    "name": "ipython",
    "version": 3
   },
   "file_extension": ".py",
   "mimetype": "text/x-python",
   "name": "python",
   "nbconvert_exporter": "python",
   "pygments_lexer": "ipython3",
   "version": "3.6.4"
  }
 },
 "nbformat": 4,
 "nbformat_minor": 1
}
